{
 "cells": [
  {
   "cell_type": "code",
   "execution_count": 1,
   "id": "58f73840-e237-49e0-93e9-777e14c7e57f",
   "metadata": {},
   "outputs": [],
   "source": [
    "import numpy as np\n",
    "import cv2\n",
    "import matplotlib.pyplot as plt\n",
    "import random\n",
    "from sympy import symbols, latex"
   ]
  },
  {
   "cell_type": "markdown",
   "id": "69193770-9b53-44b4-b610-cb76120ef3a3",
   "metadata": {},
   "source": [
    "#### Q1 How many multiplications and additions do you need to perform a matrix multiplication between a (n, k) and (k, m) matrix? Explain."
   ]
  },
  {
   "cell_type": "markdown",
   "id": "4a0cf3e3-3c6a-4f1f-82d5-db322101e7c2",
   "metadata": {},
   "source": [
    "**Ans** : We require n.m.k multiplication and n.m.(k-1) addition.\n",
    "      So, The number of elements in the resultant matrix is n.m\n",
    "      and to get each element we require k multiplication followed by k-1 addition.\n",
    "      Hence a total of n.m.k multiplication and n.m.(k-1) addition is required.\n"
   ]
  },
  {
   "cell_type": "markdown",
   "id": "449bcd15-2217-406d-a830-7137d2876b46",
   "metadata": {},
   "source": [
    "#### Q2 Write Python code to multiply the above two matrices. Solve using list of lists and then use numpy. Compare the timing of both solutions. Which one is faster? Why?"
   ]
  },
  {
   "cell_type": "code",
   "execution_count": 2,
   "id": "7a59fde8-49f2-49ed-aa95-44b26b02f44a",
   "metadata": {},
   "outputs": [],
   "source": [
    "# First I am creating a random matrix using list of lists of sizes (200x300) and (300*400)\n",
    "\n",
    "a = [random.sample(range(1000), 300)]*200\n",
    "b = [random.sample(range(1000), 400)]*300\n",
    "\n",
    "# Function to multiply two matrix using list of lists.\n",
    "\n",
    "def matrix_multiply(a, b):\n",
    "    result = [[0 for _ in range(len(b[0]))] for _ in range(len(a))]\n",
    "    \n",
    "    for i in range(len(a)):\n",
    "        for j in range(len(b[0])):\n",
    "            for k in range(len(b)):\n",
    "                result[i][j] += a[i][k] * b[k][j]\n",
    "                \n",
    "    return result\n",
    "\n",
    "\n",
    "# Second I have created a np 2d array using list.\n",
    "\n",
    "a_np = np.array(a)\n",
    "b_np = np.array(b)\n"
   ]
  },
  {
   "cell_type": "code",
   "execution_count": 3,
   "id": "3578afbf-3cfd-4f98-99f8-0bf9fbaa19b3",
   "metadata": {},
   "outputs": [
    {
     "name": "stdout",
     "output_type": "stream",
     "text": [
      "12300.540208816528\n",
      "41.76163673400879\n"
     ]
    }
   ],
   "source": [
    "import time\n",
    "\n",
    "# Measure time for list of lists\n",
    "start_time = time.time()\n",
    "result_python = matrix_multiply(a,b)\n",
    "end_time = time.time()\n",
    "print((end_time - start_time)*1000)\n",
    "\n",
    "# Measure time for NumPy\n",
    "start_time = time.time()\n",
    "result_numpy = np.dot(a_np,b_np)\n",
    "end_time = time.time()\n",
    "print((end_time - start_time)*1000)"
   ]
  },
  {
   "cell_type": "markdown",
   "id": "f71f3774-2e6d-4a8d-be39-08b74d752b55",
   "metadata": {},
   "source": [
    "<br>From the above result we can clearly see the time taken by the Matrix multiplication using list of list is very much higher than that of numpy"
   ]
  },
  {
   "cell_type": "markdown",
   "id": "cfb3eb9d-75c6-46d6-b609-cc57fcb483ad",
   "metadata": {},
   "source": [
    "The reason behind this is that NumPy is a highly optimized numerical computing library in Python, and it is designed to perform operations on arrays with a high level of efficiency. Below are the advantages that numpy array have over list.\n",
    "\n",
    "1. NumPy arrays are homogeneous, meaning all elements in the array have the same data type. This allows for more efficient storage and operations. In contrast, lists in Python can hold elements of different data types, which introduces overhead.\n",
    "2. NumPy arrays have a contiguous memory layout, which allows for more efficient memory access patterns. Lists of lists in Python may not have contiguous memory, leading to less efficient memory access.\n"
   ]
  },
  {
   "cell_type": "markdown",
   "id": "6d33dca7-d549-482b-9afe-9eb9e871d14e",
   "metadata": {},
   "source": [
    "#### Q3 Finding the highest element in a list requires one pass of the array. Finding the second highest element requires 2 passes of the the array. Using this method, what is the time complexity of finding the median of the array? Can you suggest a better method? Can you implement both these methods in Python and compare against numpy.median routine in terms of time?"
   ]
  },
  {
   "cell_type": "markdown",
   "id": "a40b2014-8794-41df-9dbb-c6412dda4c62",
   "metadata": {},
   "source": [
    "**Ans** Using first method it will take $n/2$ iteration and each iteration will take n passes so a total of $n^2/2$ time which is equivalent to $O(n^2)$.\n",
    "There is another better approach than this it will take $O(nlogn)$ time. And its preety simple. \n",
    "We will first sort the array and return the middle element.\n",
    "Below are the code for all methods."
   ]
  },
  {
   "cell_type": "code",
   "execution_count": 4,
   "id": "ca07f9cd-d723-49f3-900f-232f884d61be",
   "metadata": {},
   "outputs": [],
   "source": [
    "# First we are creating an Random array of Integers\n",
    "\n",
    "a = np.random.randint(0,100,10001)"
   ]
  },
  {
   "cell_type": "code",
   "execution_count": 5,
   "id": "fda304b2-5625-4361-aed9-08bb782ed359",
   "metadata": {},
   "outputs": [],
   "source": [
    "# Creating Function For linear search\n",
    "\n",
    "def Median_Linear(arr):\n",
    "    n = int(len(arr)/2)\n",
    "    for i in range(n+1):\n",
    "        maxi=0\n",
    "        max=0\n",
    "        for j in range(len(arr)-i):\n",
    "            if arr[j]>max:\n",
    "                max=arr[j]\n",
    "                maxi=j\n",
    "        arr[maxi]=arr[len(arr)-i-1]\n",
    "        arr[len(arr)-i-1]=max\n",
    "    return arr[n]\n",
    "            "
   ]
  },
  {
   "cell_type": "code",
   "execution_count": 6,
   "id": "c181d1fd-db94-4ba9-aea1-0ca657df4747",
   "metadata": {},
   "outputs": [],
   "source": [
    "# Creating Function For Sorting method\n",
    "\n",
    "def Median_sort(arr):\n",
    "    n= int(len(arr)/2)\n",
    "    arr.sort()\n",
    "    return arr[n]"
   ]
  },
  {
   "cell_type": "code",
   "execution_count": 7,
   "id": "926f0257-8aff-42d7-84c0-2784ead1be97",
   "metadata": {},
   "outputs": [
    {
     "name": "stdout",
     "output_type": "stream",
     "text": [
      "Median is:  51\n",
      "Time taken:  14.73305630683899\n",
      "Median is:  51\n",
      "Time taken:  0.0\n",
      "Median is:  51.0\n",
      "Time taken:  0.014020442962646484\n"
     ]
    }
   ],
   "source": [
    "# Comparing the time between all methods\n",
    "\n",
    "# Linear Method\n",
    "start= time.time()\n",
    "p=Median_Linear(a.copy())\n",
    "end = time.time()\n",
    "print(\"Median is: \" , p)\n",
    "print(\"Time taken: \", end-start)\n",
    "\n",
    "# Sorting Method\n",
    "start= time.time()\n",
    "q=Median_sort(a.copy())\n",
    "end = time.time()\n",
    "print(\"Median is: \" , q)\n",
    "print(\"Time taken: \", end-start)\n",
    "\n",
    "# Inbuilt numpy\n",
    "start= time.time()\n",
    "r=np.median(a)\n",
    "end = time.time()\n",
    "print(\"Median is: \" , r)\n",
    "print(\"Time taken: \", end-start)\n"
   ]
  },
  {
   "cell_type": "markdown",
   "id": "d48a1f81-f746-4cd0-9ca6-9bb18a235076",
   "metadata": {},
   "source": [
    "Its can be seen from the results that the time taken by the Linear method is much much higher than the sorting and inbuilt numpy methods"
   ]
  },
  {
   "cell_type": "markdown",
   "id": "cc8ac077-8b2b-49e8-9f2e-cfb1230b5034",
   "metadata": {},
   "source": [
    "#### Q4 What is the gradient of the following function with respect to x and y?    \n",
    "\n",
    "$x^2y + y^3 sin(x) $  \n",
    "\n",
    "\n",
    "**Ans**\n",
    "Gradient of the above function is the partial derivative with respect to x and y. <br>\n",
    "Hence,  \n",
    "\n",
    "With Respect to x: \n",
    "    $2xy + y^3 cos(x) $  <br>\n",
    "    \n",
    "With Respect to y:\n",
    "    $x^2 + 3y^2sin(x)$"
   ]
  },
  {
   "cell_type": "markdown",
   "id": "b4a5c120-4818-4e04-9f7c-c2193ed2b4ee",
   "metadata": {},
   "source": [
    "#### Q5 Use JAX to confirm the gradient evaluated by your method matches the analytical solution corresponding to a few random values of x and y"
   ]
  },
  {
   "cell_type": "code",
   "execution_count": 8,
   "id": "4b46f86b-f05a-4de4-a414-854be5c46bfe",
   "metadata": {},
   "outputs": [],
   "source": [
    "import jax\n",
    "import jax.numpy as jnp"
   ]
  },
  {
   "cell_type": "code",
   "execution_count": 9,
   "id": "12d6f231-2511-4004-aae4-78ef915d9933",
   "metadata": {},
   "outputs": [
    {
     "name": "stdout",
     "output_type": "stream",
     "text": [
      "The Gradient of Original Function using JAX at x=4.0 is: -573.6436157226562 and at y=10.0 is: -211.04075622558594\n",
      "\n",
      "\n",
      "The Gradient without using JAX at x=4.0 is:  -573.6436 and at y=10.0 is:  -211.04076\n",
      "\n",
      "\n"
     ]
    }
   ],
   "source": [
    "def With_x(x,y):\n",
    "    return 2*x*y + y**3 * jnp.cos(x)\n",
    "\n",
    "def With_y(x,y):\n",
    "    return x**2 + 3* y**2 * jnp.sin(x)\n",
    "\n",
    "def Original(x,y):\n",
    "    return x**2 * y + y**3 * jnp.sin(x)\n",
    "\n",
    "\n",
    "Grad_Original = jax.grad(Original, argnums=(0, 1))\n",
    "\n",
    "x=4.0\n",
    "y=10.0\n",
    "\n",
    "x_val= Grad_Original(x,y)[0]\n",
    "y_val = Grad_Original(x,y)[1]\n",
    "\n",
    "x1= With_x(x,y)\n",
    "y1= With_y(x,y)\n",
    "print(f\"The Gradient of Original Function using JAX at x={x} is: {x_val} and at y={y} is: {y_val}\")\n",
    "print(\"\\n\")\n",
    "print(\"The Gradient without using JAX at x=4.0 is: \",x1, \"and at y=10.0 is: \", y1 )\n",
    "print(\"\\n\")"
   ]
  },
  {
   "cell_type": "markdown",
   "id": "b4fd90d5-d055-463a-86b4-481a8b211ce8",
   "metadata": {},
   "source": [
    "Hence we are getting similar results with using JAX ."
   ]
  },
  {
   "cell_type": "markdown",
   "id": "ae0fdaca-0d0a-435f-9ad6-41de57beb0d3",
   "metadata": {},
   "source": [
    "#### Q6 Use sympy to confirm that you obtain the same gradient analytically."
   ]
  },
  {
   "cell_type": "code",
   "execution_count": 10,
   "id": "10af2bb0-31c1-42d5-b2fd-4934dfe03f56",
   "metadata": {},
   "outputs": [
    {
     "name": "stdout",
     "output_type": "stream",
     "text": [
      "2*x*y + y**3*cos(x)\n",
      "x**2 + 3*y**2*sin(x)\n"
     ]
    }
   ],
   "source": [
    "import sympy as sp\n",
    "\n",
    "x,y=sp.symbols('x y')\n",
    "exp = x**2 * y + y**3 * sp.sin(x)\n",
    "der_x = sp.diff(exp,x)\n",
    "der_y = sp.diff(exp,y)\n",
    "print((der_x))\n",
    "print((der_y))"
   ]
  },
  {
   "cell_type": "markdown",
   "id": "8256fafd-62b4-4bb5-ae86-f30857d7b829",
   "metadata": {},
   "source": [
    "#### Q7 Create a Python nested dictionary to represent hierarchical information. We want to store record of students and their marks. Something like:"
   ]
  },
  {
   "cell_type": "code",
   "execution_count": 11,
   "id": "66157acf-c13f-43bf-b7cb-aa4e25a32351",
   "metadata": {},
   "outputs": [],
   "source": [
    "dict= {\"2022\":{\"branch_1\":{\"Roll_No\":101,\"Name\":'Harry',\"Marks\":{\"Physics\":100,\"Maths\":98}},\n",
    "\n",
    "              \"branch_2\":{\"Roll_No\":102,\"Name\":'Rohan',\"Marks\":{\"Chemistry\":90,\"English\":99}}},\n",
    "\n",
    "       \"2023\":{\"branch_1\":{\"Roll_No\":201,\"Name\":'Krishna',\"Marks\":{\"Physics\":100,\"Maths\":98}},\n",
    "\n",
    "              \"branch_2\":{\"Roll_No\":202,\"Name\":'Hari',\"Marks\":{\"Chemistry\":85,\"English\":95}}},\n",
    "\n",
    "       \"2024\":{\"branch_1\":{\"Roll_No\":301,\"Name\":'Mayank',\"Marks\":{\"Physics\":70,\"Maths\":28}},\n",
    "\n",
    "              \"branch_2\":{\"Roll_No\":302,\"Name\":'Riyash',\"Marks\":{\"Chemistry\":92,\"English\":19}}},\n",
    "\n",
    "       \"2025\":{\"branch_1\":{\"Roll_No\":401,\"Name\":'Ravi',\"Marks\":{\"Physics\":56,\"Maths\":48}},\n",
    "\n",
    "              \"branch_2\":{\"Roll_No\":402,\"Name\":'Shivam',\"Marks\":{\"Chemistry\":60,\"English\":89}}}\n",
    "           }"
   ]
  },
  {
   "cell_type": "code",
   "execution_count": 12,
   "id": "90c42573-bb06-49ee-a6be-45ff88d54ec2",
   "metadata": {},
   "outputs": [
    {
     "name": "stdout",
     "output_type": "stream",
     "text": [
      "{'2022': {'branch_1': {'Roll_No': 101, 'Name': 'Harry', 'Marks': {'Physics': 100, 'Maths': 98}}, 'branch_2': {'Roll_No': 102, 'Name': 'Rohan', 'Marks': {'Chemistry': 90, 'English': 99}}}, '2023': {'branch_1': {'Roll_No': 201, 'Name': 'Krishna', 'Marks': {'Physics': 100, 'Maths': 98}}, 'branch_2': {'Roll_No': 202, 'Name': 'Hari', 'Marks': {'Chemistry': 85, 'English': 95}}}, '2024': {'branch_1': {'Roll_No': 301, 'Name': 'Mayank', 'Marks': {'Physics': 70, 'Maths': 28}}, 'branch_2': {'Roll_No': 302, 'Name': 'Riyash', 'Marks': {'Chemistry': 92, 'English': 19}}}, '2025': {'branch_1': {'Roll_No': 401, 'Name': 'Ravi', 'Marks': {'Physics': 56, 'Maths': 48}}, 'branch_2': {'Roll_No': 402, 'Name': 'Shivam', 'Marks': {'Chemistry': 60, 'English': 89}}}}\n"
     ]
    }
   ],
   "source": [
    "print(dict)"
   ]
  },
  {
   "cell_type": "markdown",
   "id": "3263b33c-d5ec-46d0-a238-5e8dc1bd9fea",
   "metadata": {},
   "source": [
    "#### Q8 Store the same information using Python classes. We have an overall database which is a list of year objects. Each year contains a list of branches. Each branch contains a list of students. Each student has some properties like name, roll number and has marks in some subjects."
   ]
  },
  {
   "cell_type": "code",
   "execution_count": 13,
   "id": "37b56b78-aaee-4e16-a650-8c337e212c9a",
   "metadata": {},
   "outputs": [
    {
     "name": "stdout",
     "output_type": "stream",
     "text": [
      "Name: Bunty, \n",
      "Roll No: 101, \n",
      "Branch: Computer Science, \n",
      "Year: 2022, \n",
      "Subjects: {'Maths': 100, 'Physics': 98}\n",
      "Name: prince, \n",
      "Roll No: 102, \n",
      "Branch: Computer Science, \n",
      "Year: 2023, \n",
      "Subjects: {'Maths': 99, 'Physics': 97}\n"
     ]
    }
   ],
   "source": [
    "class Student:\n",
    "    def __init__(self, year, branch, rollNo, name, **subjectWithMakrs):\n",
    "        self.year = year\n",
    "        self.branch = branch\n",
    "        self.rollNo = rollNo\n",
    "        self.name = name\n",
    "        self.subjectWithMakrs = subjectWithMakrs\n",
    "\n",
    "    def __str__(self):\n",
    "        return f\"Name: {self.name}, \\nRoll No: {self.rollNo}, \\nBranch: {self.branch}, \\nYear: {self.year}, \\nSubjects: {self.subjectWithMakrs}\"\n",
    "\n",
    "std1 = Student(2022, \"Computer Science\", 101, \"Bunty\", Maths=100, Physics=98)\n",
    "std2 = Student(2023, \"Computer Science\", 102, \"prince\", Maths=99, Physics=97)\n",
    "\n",
    "print(std1)\n",
    "print(std2)\n"
   ]
  },
  {
   "cell_type": "markdown",
   "id": "390794d8-1c6e-4e57-bb98-3348d68f0fc6",
   "metadata": {},
   "source": [
    "#### Q10 Using numpy generate a matrix of size 20X5 containing random numbers drawn uniformly from the range of 1 to 2. Using Pandas create a dataframe out of this matrix. Name the columns of the dataframe as “a”, “b”, “c”, “d”, “e”. Find the column with the highest standard deviation. Find the row with the lowest mean."
   ]
  },
  {
   "cell_type": "code",
   "execution_count": 14,
   "id": "d8b37bdb-3529-4c77-ab35-90cb6e5acae7",
   "metadata": {},
   "outputs": [
    {
     "name": "stdout",
     "output_type": "stream",
     "text": [
      "[[1.33774677 1.61001281 1.28254454 1.52205626 1.58595807]\n",
      " [1.69405745 1.48581907 1.16986781 1.88631472 1.16944686]\n",
      " [1.77563679 1.04215895 1.08842449 1.50606892 1.68435362]\n",
      " [1.04628695 1.89258746 1.07606887 1.76384638 1.50093818]\n",
      " [1.87747911 1.18715729 1.21505412 1.32357769 1.89771254]\n",
      " [1.06231634 1.37386635 1.71464497 1.21241574 1.06099586]\n",
      " [1.87573262 1.42895387 1.35161369 1.0123227  1.96782749]\n",
      " [1.29271141 1.40856975 1.70649972 1.32662077 1.10946673]\n",
      " [1.49194902 1.58325778 1.35818366 1.55398255 1.21460065]\n",
      " [1.66431513 1.25961888 1.13201585 1.02793012 1.7542249 ]\n",
      " [1.90265682 1.30089544 1.31404316 1.37163919 1.58762188]\n",
      " [1.16936008 1.85685568 1.35785805 1.76262216 1.12735261]\n",
      " [1.9416232  1.82951193 1.88320509 1.95915031 1.45982484]\n",
      " [1.25000392 1.40945565 1.05758307 1.40819682 1.85066422]\n",
      " [1.70816363 1.15128422 1.77789134 1.18596157 1.94661575]\n",
      " [1.0096103  1.37673813 1.4874037  1.26450331 1.52909091]\n",
      " [1.06897824 1.20522635 1.34581354 1.50300225 1.27482743]\n",
      " [1.93012566 1.2394612  1.17177169 1.69976598 1.21387215]\n",
      " [1.90199685 1.80917631 1.87697302 1.6214097  1.25737087]\n",
      " [1.87543277 1.57300262 1.32093668 1.57307904 1.39718602]]\n",
      "           a         b         c         d         e\n",
      "0   1.337747  1.610013  1.282545  1.522056  1.585958\n",
      "1   1.694057  1.485819  1.169868  1.886315  1.169447\n",
      "2   1.775637  1.042159  1.088424  1.506069  1.684354\n",
      "3   1.046287  1.892587  1.076069  1.763846  1.500938\n",
      "4   1.877479  1.187157  1.215054  1.323578  1.897713\n",
      "5   1.062316  1.373866  1.714645  1.212416  1.060996\n",
      "6   1.875733  1.428954  1.351614  1.012323  1.967827\n",
      "7   1.292711  1.408570  1.706500  1.326621  1.109467\n",
      "8   1.491949  1.583258  1.358184  1.553983  1.214601\n",
      "9   1.664315  1.259619  1.132016  1.027930  1.754225\n",
      "10  1.902657  1.300895  1.314043  1.371639  1.587622\n",
      "11  1.169360  1.856856  1.357858  1.762622  1.127353\n",
      "12  1.941623  1.829512  1.883205  1.959150  1.459825\n",
      "13  1.250004  1.409456  1.057583  1.408197  1.850664\n",
      "14  1.708164  1.151284  1.777891  1.185962  1.946616\n",
      "15  1.009610  1.376738  1.487404  1.264503  1.529091\n",
      "16  1.068978  1.205226  1.345814  1.503002  1.274827\n",
      "17  1.930126  1.239461  1.171772  1.699766  1.213872\n",
      "18  1.901997  1.809176  1.876973  1.621410  1.257371\n",
      "19  1.875433  1.573003  1.320937  1.573079  1.397186\n",
      "[0.34196737 0.24459509 0.26135103 0.25810274 0.29017603]\n"
     ]
    }
   ],
   "source": [
    "import pandas as pd\n",
    "\n",
    "\n",
    "mat=np.random.uniform(1.0,2.0,(20,5))\n",
    "\n",
    "print(mat)\n",
    "\n",
    "df = pd.DataFrame(mat, columns=['a','b','c','d','e'])\n",
    "\n",
    "print(df)\n",
    "\n",
    "std_dev = np.std(mat, axis=0)\n",
    "print(std_dev)\n",
    "\n"
   ]
  },
  {
   "cell_type": "markdown",
   "id": "18a22427-4489-4b9a-b1ec-196d740c08c9",
   "metadata": {},
   "source": [
    "#### Q11 Add a new column to the dataframe called “f” which is the sum of the columns “a”, “b”, “c”, “d”, “e”. Create another column called “g”. The value in the column “g” should be “LT8” if the value in the column “f” is less than 8 and “GT8” otherwise. Find the number of rows in the dataframe where the value in the column “g” is “LT8”. Find the standard deviation of the column “f” for the rows where the value in the column “g” is “LT8” and “GT8” respectively.\r\n"
   ]
  },
  {
   "cell_type": "code",
   "execution_count": 15,
   "id": "6c1a80a6-ed2b-47c6-b9aa-07ae1603939c",
   "metadata": {},
   "outputs": [
    {
     "name": "stdout",
     "output_type": "stream",
     "text": [
      "           a         b         c         d         e         f\n",
      "0   1.337747  1.610013  1.282545  1.522056  1.585958  7.338318\n",
      "1   1.694057  1.485819  1.169868  1.886315  1.169447  7.405506\n",
      "2   1.775637  1.042159  1.088424  1.506069  1.684354  7.096643\n",
      "3   1.046287  1.892587  1.076069  1.763846  1.500938  7.279728\n",
      "4   1.877479  1.187157  1.215054  1.323578  1.897713  7.500981\n",
      "5   1.062316  1.373866  1.714645  1.212416  1.060996  6.424239\n",
      "6   1.875733  1.428954  1.351614  1.012323  1.967827  7.636450\n",
      "7   1.292711  1.408570  1.706500  1.326621  1.109467  6.843868\n",
      "8   1.491949  1.583258  1.358184  1.553983  1.214601  7.201974\n",
      "9   1.664315  1.259619  1.132016  1.027930  1.754225  6.838105\n",
      "10  1.902657  1.300895  1.314043  1.371639  1.587622  7.476856\n",
      "11  1.169360  1.856856  1.357858  1.762622  1.127353  7.274049\n",
      "12  1.941623  1.829512  1.883205  1.959150  1.459825  9.073315\n",
      "13  1.250004  1.409456  1.057583  1.408197  1.850664  6.975904\n",
      "14  1.708164  1.151284  1.777891  1.185962  1.946616  7.769917\n",
      "15  1.009610  1.376738  1.487404  1.264503  1.529091  6.667346\n",
      "16  1.068978  1.205226  1.345814  1.503002  1.274827  6.397848\n",
      "17  1.930126  1.239461  1.171772  1.699766  1.213872  7.254997\n",
      "18  1.901997  1.809176  1.876973  1.621410  1.257371  8.466927\n",
      "19  1.875433  1.573003  1.320937  1.573079  1.397186  7.739637\n"
     ]
    }
   ],
   "source": [
    "for index, row in df.iterrows():\n",
    "    df.loc[index, 'f'] = sum(row)\n",
    "\n",
    "print(df)"
   ]
  },
  {
   "cell_type": "markdown",
   "id": "356f7cc4-b258-4240-9684-526ec4626366",
   "metadata": {},
   "source": [
    "#### Q12 Write a small piece of code to explain broadcasting in numpy."
   ]
  },
  {
   "cell_type": "code",
   "execution_count": 16,
   "id": "d9eeb0f1-a847-45b9-8da0-04af4df39d27",
   "metadata": {},
   "outputs": [
    {
     "name": "stdout",
     "output_type": "stream",
     "text": [
      "[6 7 8]\n",
      "[[ 5 10]\n",
      " [15 20]]\n"
     ]
    }
   ],
   "source": [
    "import numpy as np\n",
    "\n",
    "# Create two arrays of different shapes\n",
    "arr1 = np.array([1, 2, 3])\n",
    "arr2 = np.array(5)\n",
    "\n",
    "# Broadcasting: element-wise operation with smaller array stretched to match the larger\n",
    "broadcasted_sum = arr1 + arr2\n",
    "\n",
    "# Print the result\n",
    "print(broadcasted_sum)  # Output: [6 7 8]\n",
    "\n",
    "# Explanation:\n",
    "# - arr2 (scalar 5) is stretched to match the shape of arr1 (3 elements)\n",
    "# - During addition, each element of arr1 is added to the corresponding stretched element of arr2\n",
    "\n",
    "# Another example:\n",
    "arr3 = np.array([[1, 2], [3, 4]])\n",
    "broadcasted_product = arr3 * arr2\n",
    "\n",
    "# Print the result\n",
    "print(broadcasted_product)  # Output: [[5 10], [15 20]]\n",
    "\n",
    "# Explanation:\n",
    "# - arr2 (scalar 5) is stretched to a 2x2 array with all elements equal to 5\n",
    "# - Element-wise multiplication is performed between arr3 and the stretched arr2\n"
   ]
  },
  {
   "cell_type": "markdown",
   "id": "9d19e1f9-e7e8-44de-9d9d-4507e72f9317",
   "metadata": {},
   "source": [
    "#### Q13 Write a function to compute the argmin of a numpy array. The function should take a numpy array as input and return the index of the minimum element. You can use the np.argmin function to verify your solution."
   ]
  },
  {
   "cell_type": "code",
   "execution_count": 17,
   "id": "bb042192-2188-4dd8-b4c6-b1e80d4ef7bd",
   "metadata": {},
   "outputs": [
    {
     "name": "stdout",
     "output_type": "stream",
     "text": [
      "Custom argmin: 25\n",
      "NumPy argmin: 25\n"
     ]
    }
   ],
   "source": [
    "arr= np.random.randint(1,100,100)\n",
    "\n",
    "import numpy as np\n",
    "\n",
    "def custom_argmin(arr):\n",
    "    min_value = arr[0]\n",
    "    min_index = 0\n",
    "\n",
    "    for i in range(1, len(arr)):\n",
    "        if arr[i] < min_value:\n",
    "            min_value = arr[i]\n",
    "            min_index = i\n",
    "\n",
    "    return min_index\n",
    "\n",
    "result = custom_argmin(arr)\n",
    "\n",
    "print(\"Custom argmin:\", result)\n",
    "print(\"NumPy argmin:\", np.argmin(arr))\n",
    "\n"
   ]
  }
 ],
 "metadata": {
  "kernelspec": {
   "display_name": "Python 3 (ipykernel)",
   "language": "python",
   "name": "python3"
  },
  "language_info": {
   "codemirror_mode": {
    "name": "ipython",
    "version": 3
   },
   "file_extension": ".py",
   "mimetype": "text/x-python",
   "name": "python",
   "nbconvert_exporter": "python",
   "pygments_lexer": "ipython3",
   "version": "3.12.1"
  }
 },
 "nbformat": 4,
 "nbformat_minor": 5
}
